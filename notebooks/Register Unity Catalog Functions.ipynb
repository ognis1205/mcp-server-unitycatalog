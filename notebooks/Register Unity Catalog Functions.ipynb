{
 "cells": [
  {
   "cell_type": "markdown",
   "id": "22dbe8bb-db1b-46d2-bcf9-d5a6aff93065",
   "metadata": {},
   "source": [
    "### Prepare Unity Catalog AI\n",
    "\n",
    " - Initializes the Unity Catalog Function client\n",
    " - Implements a utility function to register a Unity Catalog Function"
   ]
  },
  {
   "cell_type": "code",
   "execution_count": 1,
   "id": "d5fd1b60-fdcd-4d61-9564-6b01054981c8",
   "metadata": {},
   "outputs": [],
   "source": [
    "from typing import Callable\n",
    "from unitycatalog.ai.core.client import UnitycatalogFunctionClient\n",
    "from unitycatalog.client import ApiClient, Configuration\n",
    "\n",
    "\n",
    "CLIENT = UnitycatalogFunctionClient(\n",
    "    api_client=ApiClient(\n",
    "        configuration=Configuration(host=\"http://localhost:8080/api/2.1/unity-catalog\")\n",
    "    )\n",
    ")\n",
    "CATALOG = \"unity\"\n",
    "SCHEMA = \"mcp\"\n",
    "\n",
    "\n",
    "def register(func: Callable[..., any]) -> None:\n",
    "    CLIENT.create_python_function(\n",
    "        catalog=CATALOG,\n",
    "        schema=SCHEMA,\n",
    "        func=func,\n",
    "    )"
   ]
  },
  {
   "cell_type": "markdown",
   "id": "a6c318cd-66b1-4874-9f21-56229eaee7e2",
   "metadata": {},
   "source": [
    "### IP Geolocator Utility Function\n",
    "\n",
    " - Uses an IP address to geolocate a location on Earth."
   ]
  },
  {
   "cell_type": "code",
   "execution_count": 2,
   "id": "217898f5-1571-44e0-bed5-eaa31270d893",
   "metadata": {},
   "outputs": [],
   "source": [
    "def geolocate_ip(ip: str) -> str:\n",
    "    \"\"\"\n",
    "    Returns a IP geolocation information of the given ip address.\n",
    "\n",
    "    Args:\n",
    "        ip: The ip address to geolocate\n",
    "\n",
    "    Returns:\n",
    "        JSON which represents the geolocation of the given ip.\n",
    "    \"\"\"\n",
    "    import requests\n",
    "\n",
    "    return requests.get(\"http://ip-api.com/json/\" + ip).json()\n",
    "\n",
    "\n",
    "register(geolocate_ip)"
   ]
  },
  {
   "cell_type": "markdown",
   "id": "c130696b-94c1-4457-a3d4-a27cd23cbd09",
   "metadata": {},
   "source": [
    "### GitHub Repository Search Utility Function\n",
    "\n",
    " - Searches GitHub repositories specified by the given keywords."
   ]
  },
  {
   "cell_type": "code",
   "execution_count": 3,
   "id": "a71a24e2-151d-49cb-8492-92f3ef9b6040",
   "metadata": {},
   "outputs": [],
   "source": [
    "def search_github(keywords: str) -> str:\n",
    "    \"\"\"\n",
    "    Searches the GitHub API for repositories using an input keyword.\n",
    "\n",
    "    Args:\n",
    "        keywords: The space separated search keywords.\n",
    "\n",
    "    Returns:\n",
    "        A JSON of GitHub repositories returned for the keyword list.\n",
    "        Each result key/value consists of the repository name and url.\n",
    "    \"\"\"\n",
    "    import json\n",
    "    import requests\n",
    "\n",
    "    return requests.get(\n",
    "        f\"https://api.github.com/search/repositories?q={'+'.join(keywords.split())}&sort=stars&order=desc\"\n",
    "    ).json()\n",
    "\n",
    "\n",
    "register(search_github)"
   ]
  },
  {
   "cell_type": "code",
   "execution_count": null,
   "id": "2f66c73e-b2b8-47e0-93e6-def66aeec0f5",
   "metadata": {},
   "outputs": [],
   "source": []
  }
 ],
 "metadata": {
  "kernelspec": {
   "display_name": "Python 3 (ipykernel)",
   "language": "python",
   "name": "python3"
  },
  "language_info": {
   "codemirror_mode": {
    "name": "ipython",
    "version": 3
   },
   "file_extension": ".py",
   "mimetype": "text/x-python",
   "name": "python",
   "nbconvert_exporter": "python",
   "pygments_lexer": "ipython3",
   "version": "3.10.16"
  }
 },
 "nbformat": 4,
 "nbformat_minor": 5
}
