{
 "cells": [
  {
   "cell_type": "code",
   "execution_count": 1,
   "id": "0c35e522-de2d-4831-9bed-4572dec551e2",
   "metadata": {},
   "outputs": [],
   "source": [
    "from unitycatalog.ai.core.client import UnitycatalogFunctionClient\n",
    "from unitycatalog.client import ApiClient, Configuration\n",
    "\n",
    "\n",
    "config = Configuration()\n",
    "config.host = \"http://localhost:8080/api/2.1/unity-catalog\"\n",
    "api_client = ApiClient(configuration=config)\n",
    "uc_client = UnitycatalogFunctionClient(api_client=api_client)\n",
    "\n",
    "\n",
    "CATALOG = \"unity\"\n",
    "SCHEMA = \"default\""
   ]
  },
  {
   "cell_type": "code",
   "execution_count": 2,
   "id": "217898f5-1571-44e0-bed5-eaa31270d893",
   "metadata": {},
   "outputs": [],
   "source": [
    "def my_test_func(a: str, b: str) -> str:\n",
    "    \"\"\"\n",
    "    Returns an upper case concatenation of two strings separated by a space.\n",
    "\n",
    "    Args:\n",
    "        a: the first string\n",
    "        b: the second string\n",
    "\n",
    "    Returns:\n",
    "        Uppercased concatenation of the two strings.\n",
    "    \"\"\"\n",
    "    concatenated = f\"{a} {b}\"\n",
    "    return concatenated.upper()\n",
    "\n",
    "\n",
    "my_function = uc_client.create_python_function(\n",
    "    func=my_test_func,\n",
    "    catalog=CATALOG,\n",
    "    schema=SCHEMA,\n",
    ")"
   ]
  },
  {
   "cell_type": "code",
   "execution_count": null,
   "id": "07d945b1-55b9-409b-b1aa-b452b7539b0d",
   "metadata": {},
   "outputs": [],
   "source": []
  }
 ],
 "metadata": {
  "kernelspec": {
   "display_name": "Python 3 (ipykernel)",
   "language": "python",
   "name": "python3"
  },
  "language_info": {
   "codemirror_mode": {
    "name": "ipython",
    "version": 3
   },
   "file_extension": ".py",
   "mimetype": "text/x-python",
   "name": "python",
   "nbconvert_exporter": "python",
   "pygments_lexer": "ipython3",
   "version": "3.10.16"
  }
 },
 "nbformat": 4,
 "nbformat_minor": 5
}
