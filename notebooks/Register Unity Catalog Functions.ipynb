{
 "cells": [
  {
   "cell_type": "markdown",
   "id": "22dbe8bb-db1b-46d2-bcf9-d5a6aff93065",
   "metadata": {},
   "source": [
    "### Prepare Unity Catalog AI\n",
    "\n",
    " - Initializes the Unity Catalog Function client\n",
    " - Implements a utility function to register a Unity Catalog Function"
   ]
  },
  {
   "cell_type": "code",
   "execution_count": 3,
   "id": "d5fd1b60-fdcd-4d61-9564-6b01054981c8",
   "metadata": {},
   "outputs": [],
   "source": [
    "from typing import Callable\n",
    "from unitycatalog.ai.core.client import UnitycatalogFunctionClient\n",
    "from unitycatalog.client import ApiClient, Configuration\n",
    "\n",
    "\n",
    "CLIENT = UnitycatalogFunctionClient(\n",
    "    api_client=ApiClient(\n",
    "        configuration=Configuration(host=\"http://localhost:8080/api/2.1/unity-catalog\")\n",
    "    )\n",
    ")\n",
    "CATALOG = \"unity\"\n",
    "SCHEMA = \"mcp\"\n",
    "\n",
    "\n",
    "def register(func: Callable[..., any]) -> None:\n",
    "    CLIENT.create_python_function(\n",
    "        catalog=CATALOG,\n",
    "        schema=SCHEMA,\n",
    "        func=func,\n",
    "    )"
   ]
  },
  {
   "cell_type": "markdown",
   "id": "a6c318cd-66b1-4874-9f21-56229eaee7e2",
   "metadata": {},
   "source": [
    "### IP Geolocator Utility Function\n",
    "\n",
    " - Uses an IP address to geolocate a location on Earth."
   ]
  },
  {
   "cell_type": "code",
   "execution_count": 9,
   "id": "217898f5-1571-44e0-bed5-eaa31270d893",
   "metadata": {},
   "outputs": [],
   "source": [
    "def geolocate_ip(ip: str) -> str:\n",
    "    \"\"\"\n",
    "    Returns a IP geolocation information of the given ip address.\n",
    "\n",
    "    Args:\n",
    "        ip: The ip address to geolocate\n",
    "\n",
    "    Returns:\n",
    "        JSON which represents the geolocation of the given ip.\n",
    "    \"\"\"\n",
    "    import requests\n",
    "    return requests.get(\"http://ip-api.com/json/\" + ip).json()\n",
    "\n",
    "\n",
    "register(geolocate_ip)"
   ]
  },
  {
   "cell_type": "markdown",
   "id": "c130696b-94c1-4457-a3d4-a27cd23cbd09",
   "metadata": {},
   "source": [
    "### GitHub Repository Search Utility Function\n",
    "\n",
    " - Searches GitHub repositories specified by the given keywords."
   ]
  },
  {
   "cell_type": "code",
   "execution_count": null,
   "id": "834ba7a2-d68e-456a-b856-ac23549f48ee",
   "metadata": {},
   "outputs": [],
   "source": [
    "def search_github(token: str, keyword: list) -> list:\n",
    "    \"\"\"\n",
    "    Searches the GitHub API for repositories using an input keyword.\n",
    "\n",
    "    Args:\n",
    "        token: Your GitHub access token.\n",
    "        keyword: The keyword list for search.\n",
    "\n",
    "    Returns:\n",
    "        A nested list of GitHub repositories returned for the keyword list.\n",
    "        Each result list contains the repository name, url, and description.\n",
    "    \"\"\"\n",
    "    import time\n",
    "    from github import Github\n",
    "    from github.GithubException import RateLimitExceededException\n",
    "    client = Github(token)\n",
    "    query = keyword + '+in:readme+in:description'\n",
    "    results = client.search_repositories(query, 'stars', 'desc')\n",
    "    results_list = []\n",
    "    for repo in tqdm(range(0, results.totalCount)):\n",
    "        try:\n",
    "            results_list.append([results[repo].name, results[repo].url, results[repo].description])\n",
    "            time.sleep(2)\n",
    "        except RateLimitExceededException:\n",
    "            time.sleep(60)\n",
    "            results_list.append([results[repo].name, results[repo].url, results[repo].description])\n",
    "    return results_list"
   ]
  }
 ],
 "metadata": {
  "kernelspec": {
   "display_name": "Python 3 (ipykernel)",
   "language": "python",
   "name": "python3"
  },
  "language_info": {
   "codemirror_mode": {
    "name": "ipython",
    "version": 3
   },
   "file_extension": ".py",
   "mimetype": "text/x-python",
   "name": "python",
   "nbconvert_exporter": "python",
   "pygments_lexer": "ipython3",
   "version": "3.10.16"
  }
 },
 "nbformat": 4,
 "nbformat_minor": 5
}
