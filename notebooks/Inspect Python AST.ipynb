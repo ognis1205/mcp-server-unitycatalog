{
 "cells": [
  {
   "cell_type": "markdown",
   "id": "cd4fd063-47a1-4a4e-8da8-e393c8269b51",
   "metadata": {},
   "source": [
    "### Inspect Python AST Capability\n",
    "\n",
    " - Checks if we can use `ast` module to create Python function from AI agents."
   ]
  },
  {
   "cell_type": "code",
   "execution_count": 1,
   "id": "606eff64-52e0-44f3-9ec4-f349daab406f",
   "metadata": {},
   "outputs": [],
   "source": [
    "import ast\n",
    "from textwrap import dedent\n",
    "from typing import Optional\n",
    "\n",
    "\n",
    "def extract(script: str, func_name: str) -> Optional[str]:\n",
    "    \"\"\"Extracts the source code of a specific function from a script.\"\"\"\n",
    "    tree = ast.parse(script)\n",
    "    for node in tree.body:\n",
    "        if isinstance(node, ast.FunctionDef) and node.name == func_name:\n",
    "            return ast.unparse(node)\n",
    "    return None"
   ]
  },
  {
   "cell_type": "markdown",
   "id": "26f24f03-e8a1-4d82-859a-b4ea5cd238a0",
   "metadata": {},
   "source": [
    "### Test if `extract` function works"
   ]
  },
  {
   "cell_type": "code",
   "execution_count": 2,
   "id": "55d83a87-204e-4895-bf03-9fd7a17faca0",
   "metadata": {},
   "outputs": [
    {
     "name": "stdout",
     "output_type": "stream",
     "text": [
      "\n",
      "    Returns the value of the given number multiplied by 2.\n",
      "\n",
      "    Args:\n",
      "        x: The number to be multiplied.\n",
      "\n",
      "    Returns:\n",
      "        Value of the given number multiplied by 2.\n",
      "    \n",
      "10\n"
     ]
    }
   ],
   "source": [
    "script = '''\n",
    "def foo():\n",
    "    return \"Hello, World!\"\n",
    "\n",
    "def bar(x):\n",
    "    \"\"\"\n",
    "    Returns the value of the given number multiplied by 2.\n",
    "\n",
    "    Args:\n",
    "        x: The number to be multiplied.\n",
    "\n",
    "    Returns:\n",
    "        Value of the given number multiplied by 2.\n",
    "    \"\"\"\n",
    "    return x * 2\n",
    "'''\n",
    "\n",
    "\n",
    "src = extract(script, \"foo\")\n",
    "assert src is not None\n",
    "exec(src)\n",
    "func = locals().get(\"foo\")\n",
    "assert func.__name__ == \"foo\"\n",
    "assert func.__doc__ is None\n",
    "assert func() == \"Hello, World!\"\n",
    "\n",
    "src = extract(script, \"bar\")\n",
    "assert src is not None\n",
    "exec(src)\n",
    "func = locals().get(\"bar\")\n",
    "assert func.__name__ == \"bar\"\n",
    "assert dedent(func.__doc__) == dedent(\"\"\"\n",
    "    Returns the value of the given number multiplied by 2.\n",
    "\n",
    "    Args:\n",
    "        x: The number to be multiplied.\n",
    "\n",
    "    Returns:\n",
    "        Value of the given number multiplied by 2.\n",
    "\"\"\")\n",
    "assert func(5) == 10"
   ]
  },
  {
   "cell_type": "code",
   "execution_count": null,
   "id": "5145382c-f0d5-40a8-b748-b7144629389d",
   "metadata": {},
   "outputs": [],
   "source": []
  }
 ],
 "metadata": {
  "kernelspec": {
   "display_name": "Python 3 (ipykernel)",
   "language": "python",
   "name": "python3"
  },
  "language_info": {
   "codemirror_mode": {
    "name": "ipython",
    "version": 3
   },
   "file_extension": ".py",
   "mimetype": "text/x-python",
   "name": "python",
   "nbconvert_exporter": "python",
   "pygments_lexer": "ipython3",
   "version": "3.10.16"
  }
 },
 "nbformat": 4,
 "nbformat_minor": 5
}
